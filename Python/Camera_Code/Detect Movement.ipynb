{
 "cells": [
  {
   "cell_type": "markdown",
   "id": "e52e780c",
   "metadata": {},
   "source": [
    "# NOTE:\n",
    "You cannot run this part by part because this is a live code and will end up doing wacky stuff. Run it at once all the way through\n",
    "\n",
    "This is the import in order to import the code needed. if you use as you can just shorten the name basically "
   ]
  },
  {
   "cell_type": "code",
   "execution_count": 13,
   "id": "068537fc",
   "metadata": {},
   "outputs": [],
   "source": [
    "import cv2 as cv\n",
    "import numpy as np\n",
    "import matplotlib.pyplot as plt\n",
    "\n",
    "import colorama\n",
    "from colorama import Fore"
   ]
  },
  {
   "cell_type": "markdown",
   "id": "545010fb",
   "metadata": {},
   "source": [
    "This will define the object that is the camera, 0 means built in, it could also possibly be -1.\n",
    "\n",
    "The reason I have camera setting equal to zero and have it deleted is because Jpnotebook will make camera an index if I don't delete it before hand. "
   ]
  },
  {
   "cell_type": "code",
   "execution_count": 14,
   "id": "fa733ede",
   "metadata": {},
   "outputs": [],
   "source": [
    "camera = [0]\n",
    "del camera\n",
    "camera = cv.VideoCapture(0)"
   ]
  },
  {
   "cell_type": "markdown",
   "id": "d5d4ae1f",
   "metadata": {},
   "source": [
    "This checks if the Camera is open, make sure that you run this part all at once or the whole thing will not work step by step"
   ]
  },
  {
   "cell_type": "code",
   "execution_count": 15,
   "id": "123e233d",
   "metadata": {},
   "outputs": [
    {
     "name": "stdout",
     "output_type": "stream",
     "text": [
      "\u001b[32m\u001b[1mThe Camera is Open\u001b[0m\n"
     ]
    }
   ],
   "source": [
    "if not camera.isOpened():\n",
    "    print(Fore.RED + '\\033[1m' + 'Da Camera is broken' + '\\033[0m')\n",
    "    \n",
    "elif  camera.isOpened():\n",
    "    print(Fore.GREEN + '\\033[1m' + 'The Camera is Open' + '\\033[0m')\n",
    "    \n",
    "    "
   ]
  },
  {
   "cell_type": "markdown",
   "id": "ec4dd8d9",
   "metadata": {},
   "source": [
    "We know use .read to get the webcam footage. The first variable is just a boolean that basically checks if the camera or video stream is uninterupted, while the img is the frame.\n"
   ]
  },
  {
   "cell_type": "code",
   "execution_count": 16,
   "id": "12d0b918",
   "metadata": {},
   "outputs": [
    {
     "name": "stdout",
     "output_type": "stream",
     "text": [
      "\u001b[32m\u001b[1mThe stream is operational\u001b[0m\n"
     ]
    }
   ],
   "source": [
    "\n",
    "stream, img = camera.read()\n",
    "if stream == True: \n",
    "    print(Fore.GREEN + '\\033[1m' + 'The stream is operational' + '\\033[0m')"
   ]
  },
  {
   "cell_type": "markdown",
   "id": "5e48876b",
   "metadata": {},
   "source": [
    "Below uses imshow, the first line is the name of the opened window, the second is the actual image you want to show.\n",
    "\n",
    "using waitKey(0) means it will pause UNTIL something is pressed. If you put a number it works in miliseconds"
   ]
  },
  {
   "cell_type": "code",
   "execution_count": 17,
   "id": "941322e3",
   "metadata": {},
   "outputs": [],
   "source": [
    "#cv.imshow(\"LIVESTREAM\",img)\n",
    "\n",
    "#This waits for a keystroke\n",
    "#cv.waitKey(0) \n",
    "  \n",
    "#closing all open windows \n",
    "#cv.destroyAllWindows() "
   ]
  },
  {
   "cell_type": "markdown",
   "id": "b447a63b",
   "metadata": {},
   "source": [
    "Now we will actually fully continue to show an entire video. and wait for a user input. "
   ]
  },
  {
   "cell_type": "code",
   "execution_count": null,
   "id": "3a58f8d8",
   "metadata": {},
   "outputs": [],
   "source": []
  },
  {
   "cell_type": "code",
   "execution_count": 18,
   "id": "9cb88f34",
   "metadata": {},
   "outputs": [
    {
     "name": "stdout",
     "output_type": "stream",
     "text": [
      "[[11 11 10 ... 15 14 14]\n",
      " [11 11 11 ... 13 13 13]\n",
      " [11 11 11 ... 12 13 13]\n",
      " ...\n",
      " [12 12 12 ... 14 14 14]\n",
      " [13 13 12 ... 13 11 11]\n",
      " [12 13 12 ... 13 13 12]]\n"
     ]
    }
   ],
   "source": [
    "while True:\n",
    "    stream, img = camera.read()\n",
    "    cv.imshow(\"LIVESTREAM\",img)\n",
    "    \n",
    "    #This converts it to a grey scaled image and displays it COLOR_RGB2GRAY\n",
    "    greyscaled = cv.cvtColor(img, cv.COLOR_RGB2GRAY)\n",
    "    cv.imshow(\"GreyLive\",greyscaled)\n",
    "    \n",
    "    cntr = (-100,-100)\n",
    "    color = (255, 0, 0)\n",
    "    cv.circle(img=greyscaled, center = (200,300), radius =50, color =(255,0,0), thickness=10)\n",
    "\n",
    "    cv.imshow(\"circlehope\",greyscaled)\n",
    "    \n",
    "    \n",
    "    \n",
    "    \n",
    "   #wait key returns the key that is pressed and records it, The reason you need the &0xFF is because \n",
    "   #waitKey exports binary with a bunch of garbage in the front of it. 0xFF is basically just a constant, and & \n",
    "   #is a built in function that goes number by number and manipulates it. \n",
    "   #This basically means that key is the pressed key without any junk.\n",
    "   #If I did waitKey(0) it would stop on a solid image until I put an input. \n",
    "   #While if I make it a 1 it will stop shortly then continue.\n",
    "    key  = cv.waitKey(1) & 0xFF\n",
    "    \n",
    "    #now we will compare that to the desired key of input, we use ord to conver a letter into its ASCII code \n",
    "    #which key is in. if it is that we will then break out of the loop\n",
    "    \n",
    "    if key == ord(' '):\n",
    "        break\n",
    "    \n",
    "# After the loop release the cap object\n",
    "camera.release()\n",
    "# Destroy all the windows\n",
    "cv.destroyAllWindows()\n",
    "print(greyscaled)\n",
    "    "
   ]
  },
  {
   "cell_type": "code",
   "execution_count": null,
   "id": "084ce85f",
   "metadata": {},
   "outputs": [],
   "source": []
  },
  {
   "cell_type": "markdown",
   "id": "d4d82cad",
   "metadata": {},
   "source": [
    "# list of useful links \n",
    "\n",
    "https://www.geeksforgeeks.org/python-opencv-capture-video-from-camera/\n",
    "https://docs.opencv.org/4.x/dd/d43/tutorial_py_video_display.html\n",
    "https://www.geeksforgeeks.org/check-if-the-camera-is-opened-or-not-using-opencv-python/\n",
    "https://learnopencv.com/reading-and-writing-videos-using-opencv/\n"
   ]
  }
 ],
 "metadata": {
  "kernelspec": {
   "display_name": "Python 3 (ipykernel)",
   "language": "python",
   "name": "python3"
  },
  "language_info": {
   "codemirror_mode": {
    "name": "ipython",
    "version": 3
   },
   "file_extension": ".py",
   "mimetype": "text/x-python",
   "name": "python",
   "nbconvert_exporter": "python",
   "pygments_lexer": "ipython3",
   "version": "3.8.10"
  }
 },
 "nbformat": 4,
 "nbformat_minor": 5
}
